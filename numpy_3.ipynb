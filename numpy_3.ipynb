{
 "cells": [
  {
   "cell_type": "markdown",
   "id": "cc8d4d50",
   "metadata": {},
   "source": [
    "### Data Cleaning using numpy"
   ]
  },
  {
   "cell_type": "markdown",
   "id": "a9f62f05",
   "metadata": {},
   "source": [
    "**The following are the student marks of a class**\n",
    "[44,24,np.nan,59,32,96,188,52,62,58,52,120,np.nan,np.nan,3,56,81,59,,122,92,np.nan,87,96,97,1,19,2,53, 44]\n",
    "\n"
   ]
  },
  {
   "cell_type": "markdown",
   "id": "69b2a360",
   "metadata": {},
   "source": [
    "1. Find the no of outliers and missing values?\n",
    "2. replace the outliers with 45 and missing value with 87.\n",
    "3. what is the average marks of students after 2nd step?\n",
    "4. How many students got less than 60 marks?\n",
    "5. what is the maximum marks?\n",
    "6. Convert the marks to float32."
   ]
  },
  {
   "cell_type": "markdown",
   "id": "3692b4ec",
   "metadata": {},
   "source": [
    "### Solving Linear Equations"
   ]
  },
  {
   "cell_type": "markdown",
   "id": "b5172cfe",
   "metadata": {},
   "source": [
    "\n",
    "    \n",
    "1. 2x + 3y - z = 10\n",
    "\n",
    "    x - y + 2z = 5\n",
    "    \n",
    "    3x + 2y + z = 12\n",
    "    \n",
    "    \n",
    "    \n",
    "2. 2x + y - z + 3w = 8\n",
    "\n",
    "    3x - 2y + 2z + 2w = 1\n",
    "    \n",
    "    x + 3y - 2z + w = 7\n",
    "    \n",
    "    4x - y + z - 2w = 3\n",
    "   \n",
    "   \n",
    "   \n",
    "3. 4x + 2y - 3z = 10\n",
    "\n",
    "    -2x + 3y + z = -3\n",
    "    \n",
    "    x - y + 2z = 4\n",
    "    \n",
    "Solve the system of equations using NumPy's linalg.solve function.\n"
   ]
  },
  {
   "cell_type": "markdown",
   "id": "5bebe166",
   "metadata": {},
   "source": [
    "### Conditional Selection with np.where()"
   ]
  },
  {
   "cell_type": "markdown",
   "id": "036735c5",
   "metadata": {},
   "source": [
    "\n",
    "1.\tGenerate a random 1D array A of 10 integers between 1 and 100.\n",
    "\n",
    "2.\tUse np.where() to find the indices where the elements of A are greater than 50.\n",
    "\n",
    "3.\tCreate a new array B that contains elements from A where the condition is met.\n",
    "\n",
    "4.\tCalculate the mean of array B and print it along with arrays A and B."
   ]
  },
  {
   "cell_type": "markdown",
   "id": "f935d75b",
   "metadata": {},
   "source": [
    "### Replace Values with np.where()"
   ]
  },
  {
   "cell_type": "markdown",
   "id": "9c5ac3b7",
   "metadata": {},
   "source": [
    "1.\tCreate a 4x4 random integer matrix C with values between -10 and 10.\n",
    "\n",
    "2.\tUse np.where() to replace all negative values in matrix C with 0.\n",
    "\n",
    "3.\tPrint the original matrix C and the modified matrix."
   ]
  },
  {
   "cell_type": "code",
   "execution_count": null,
   "id": "13dfb9ba",
   "metadata": {},
   "outputs": [],
   "source": []
  }
 ],
 "metadata": {
  "kernelspec": {
   "display_name": "Python 3 (ipykernel)",
   "language": "python",
   "name": "python3"
  },
  "language_info": {
   "codemirror_mode": {
    "name": "ipython",
    "version": 3
   },
   "file_extension": ".py",
   "mimetype": "text/x-python",
   "name": "python",
   "nbconvert_exporter": "python",
   "pygments_lexer": "ipython3",
   "version": "3.11.4"
  }
 },
 "nbformat": 4,
 "nbformat_minor": 5
}
