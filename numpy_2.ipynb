{
 "cells": [
  {
   "cell_type": "markdown",
   "id": "e4decde1",
   "metadata": {},
   "source": [
    "**Creation of ndarray**\n",
    "\n",
    "1. Write python code to create 3d array in different ways with 15 elements.\n",

    "2. Array Creation:\n",
    "a. Create a 4D NumPy array containing the first 12 positive integers as arr1.\n",

    "b. Create a 3D NumPy array1 with 20 random elements containing integers between 0 and 1.\n",

    "3. Find all attributes of array1 and array2\n",

    "4. Apply measure and describe the data (attributes and descriptive statistics) to above arrays using NumPy.\n",
    "\n",
    "\n",
    "**Array Slicing and Indexing:**\n",
    "\n",
    "a. Creating Arrays:\n",
    "      - Create a 1-dimensional NumPy array  arr1 with the values [0, 11, 26, 73, 42, 51, 6,77, 8,29].\n",
    "      - Create a 2-dimensional NumPy array  arr2  with the values  [[0, 1, 2], [3, 4, 5], [6, 7, 8]].\n",
    "      \n",
    " b.Basic Indexing:\n",
    "      - Print the element at index 3 of  arr1.\n",
    "      - Print the element at row 2, column 1 of  arr2\n",
    "\n",
    "   c. Array Slicing:\n",
    "      - Print the first five elements of `arr1`.\n",
    "      - Print the subarray of `arr2` consisting of the last two rows and the first two columns.\n",
    "       - Print every second element starting from index 1 up to index 7 of `arr1`.\n",
    "\n",
    "\n",
    "\n",
    "\n",
    "\n",
    "\n",
    "\n",
    "**Data Type Manipulation**\n",
    "\n",
    "a. Creating Arrays with Specific Data Types:\n",
    "      - Create a 1-dimensional NumPy array `int_array` with the values `[1, 2, 3, 4, 5]` and the data type `int16`.\n",
    "      - Create a 1-dimensional NumPy array `float_array` with the values `[0.1, 0.2, 0.3, 0.4, 0.5]` and the data type `float64`.\n",
    "      \n",
    "b. Data Type Conversion:\n",
    "      - Convert the `float_array` to an array with data type `int32`. Print the result.\n",
    "      - Convert the `int_array` to an array with data type `float32`. Print the result.\n",
    "\n",
    "**Generating Random Numbers:**\n",
    "\n",
    "1.\tUse numpy.random.randint() to create an array rand_integers containing 10 random integers between 0 and 100 (inclusive).\n",
    "\n",
    "2.\tUse numpy.random.uniform() to create an array rand_uniform containing 5 random numbers sampled from a uniform distribution between -1 and 1.\n",
    "\n",
    "3.\tCreate an array rand_matrix with random integers between 50 and 100 (inclusive).and reshape it to 2-dimensional (4 x 4) matrix\n",
    "\n",
    "4.\tApply descriptive statistics for rand_matrix.\n",
    "\n",
    "\n",
    "**Analyze the Data:**\n",
    "\n",
    "Salaries = [87877, 54494, 54804, 85051, 52453, 31250, 94868, 66349, 39828, 60501, 58570, 74906, 41671, 51428, 56414, 98446, 56819, 82833, 50477, 62898, 99658, 89224, 34225, 79172, 32199, 63795, 90947, 55723, 64557, 3113638]\n",
    "\n",
    "\n",
    "\n",
    "\n",
    "Describe the data using numpy array.\n",
    "Measure the following:\n",
    "1.\tHow many employees are getting more less than 50000?\n",
    "\n",
    "2.\tIs it following Normal Distribution?\n",
    "\n",
    "3.\tWhat is the median salary?\n",
    "\n",
    "4.\tWhat is the range of salaries for this company?\n",
    "\n",
    "5.\tFind the salaries between average salary and 75% of salaries?\n",
    "\n",
    "6.\tHow many employees are getting less than 25 % of salaries ?\n",
    "\n"
   ]
  },
  {
   "cell_type": "code",
   "execution_count": null,
   "id": "c47eb3d0",
   "metadata": {},
   "outputs": [],
   "source": []
  }
 ],
 "metadata": {
  "kernelspec": {
   "display_name": "Python 3 (ipykernel)",
   "language": "python",
   "name": "python3"
  },
  "language_info": {
   "codemirror_mode": {
    "name": "ipython",
    "version": 3
   },
   "file_extension": ".py",
   "mimetype": "text/x-python",
   "name": "python",
   "nbconvert_exporter": "python",
   "pygments_lexer": "ipython3",
   "version": "3.11.4"
  }
 },
 "nbformat": 4,
 "nbformat_minor": 5
}
