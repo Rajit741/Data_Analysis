{
 "cells": [
  {
   "cell_type": "markdown",
   "id": "5d5ff628",
   "metadata": {},
   "source": [
    "# pandas Series\n",
    "1. Create pandas series with different `data types` in `different ways`\n",
    "2. Find the `attributes` of Series of [10,30,40,1,3,6,14,18,23] with index starts from `100`\n",
    "3. create salaries of `30 employee salaries randomly from 30000-90000` then `measure and describe` the data using pandas series.\n",
    "4. What are the `similaraties` and `differences` between pandas series and nnumpy array.Prove it with code.\n",
    "5. create pandas series with ranges from 100 to 150 then apply indexing and slicing on it."
   ]
  }
 ],
 "metadata": {
  "kernelspec": {
   "display_name": "Python 3 (ipykernel)",
   "language": "python",
   "name": "python3"
  },
  "language_info": {
   "codemirror_mode": {
    "name": "ipython",
    "version": 3
   },
   "file_extension": ".py",
   "mimetype": "text/x-python",
   "name": "python",
   "nbconvert_exporter": "python",
   "pygments_lexer": "ipython3",
   "version": "3.11.4"
  }
 },
 "nbformat": 4,
 "nbformat_minor": 5
}
